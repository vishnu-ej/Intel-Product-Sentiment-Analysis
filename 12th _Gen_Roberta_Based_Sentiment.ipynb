{
 "cells": [
  {
   "cell_type": "code",
   "execution_count": 1,
   "id": "d213f4e6-7d4e-4622-bc34-efffd9214091",
   "metadata": {},
   "outputs": [],
   "source": [
    "import pandas as pd\n",
    "from transformers import RobertaTokenizer, RobertaForSequenceClassification\n",
    "import torch"
   ]
  },
  {
   "cell_type": "code",
   "execution_count": 2,
   "id": "643ca7ec-f1b5-4d62-966a-04ee3ccd2a3c",
   "metadata": {},
   "outputs": [],
   "source": [
    "# Load the CSV file\n",
    "df = pd.read_csv('12th Gen.csv')\n",
    "\n",
    "# Ensure the text column is of type string\n",
    "df['text'] = df['text'].astype(str)"
   ]
  },
  {
   "cell_type": "code",
   "execution_count": 3,
   "id": "514e8641-135b-42f2-a89f-5706f3000fc5",
   "metadata": {},
   "outputs": [],
   "source": [
    "# Initialize the tokenizer\n",
    "tokenizer = RobertaTokenizer.from_pretrained('roberta-base')\n",
    "\n",
    "# Function to preprocess text\n",
    "def preprocess_text(text):\n",
    "    return tokenizer(text, padding=True, truncation=True, return_tensors='pt')\n",
    "\n",
    "# Tokenize the text\n",
    "tokens = [preprocess_text(text) for text in df['text']]\n"
   ]
  },
  {
   "cell_type": "code",
   "execution_count": 4,
   "id": "bc424f84-da95-4bc4-9e6a-503991ee7068",
   "metadata": {},
   "outputs": [],
   "source": [
    "# Load the pre-trained model for sentiment analysis\n",
    "model = RobertaForSequenceClassification.from_pretrained('cardiffnlp/twitter-roberta-base-sentiment')\n"
   ]
  },
  {
   "cell_type": "code",
   "execution_count": 5,
   "id": "63a12bd8-a3ec-4abd-8e7d-b027cd53ac2b",
   "metadata": {},
   "outputs": [],
   "source": [
    "# Function to predict sentiment\n",
    "def predict_sentiment(tokenized_input):\n",
    "    with torch.no_grad():\n",
    "        outputs = model(**tokenized_input)\n",
    "        logits = outputs.logits\n",
    "        predicted_class = torch.argmax(logits, dim=1).item()\n",
    "        return predicted_class\n",
    "\n",
    "# Function to map predicted class to sentiment label\n",
    "def sentiment_label(predicted_class):\n",
    "    labels = {0: 'Negative', 1: 'Neutral', 2: 'Positive'}\n",
    "    return labels[predicted_class]"
   ]
  },
  {
   "cell_type": "code",
   "execution_count": 6,
   "id": "bb41a758-d6b8-4e96-90e6-3ea21215feda",
   "metadata": {},
   "outputs": [],
   "source": [
    "df['sentiment_numeric'] = [predict_sentiment(tokens[i]) for i in range(len(tokens))]\n",
    "\n",
    "# Map the numeric sentiment to descriptive sentiment\n",
    "df['sentiment_description'] = df['sentiment_numeric'].apply(sentiment_label)\n"
   ]
  },
  {
   "cell_type": "code",
   "execution_count": 8,
   "id": "e9e15ab3-7973-46ac-bd4e-8a3ccd5da0ba",
   "metadata": {},
   "outputs": [
    {
     "name": "stdout",
     "output_type": "stream",
     "text": [
      "                                                text  sentiment_numeric  \\\n",
      "0  15k is very low price for an i3. 15.1k should ...                  1   \n",
      "1    Works great out the box and super quiet cooler.                  2   \n",
      "2  This is a great processor that can handle just...                  2   \n",
      "3  I bought this processor to be able to© put it ...                  2   \n",
      "4  12100 is a great CPU because Intel did bust a ...                  2   \n",
      "5     Great budget processor for not too heavy work.                  2   \n",
      "6  It's great for when you're on a budget, has go...                  2   \n",
      "7  I have an i7-10700K. In Single-Core he beats 1...                  2   \n",
      "8               working well until© today march 2024                  2   \n",
      "9  Came in early.. box damaged but luckily cpu wa...                  2   \n",
      "\n",
      "  sentiment_description  \n",
      "0               Neutral  \n",
      "1              Positive  \n",
      "2              Positive  \n",
      "3              Positive  \n",
      "4              Positive  \n",
      "5              Positive  \n",
      "6              Positive  \n",
      "7              Positive  \n",
      "8              Positive  \n",
      "9              Positive  \n"
     ]
    }
   ],
   "source": [
    "print(df[['text', 'sentiment_numeric', 'sentiment_description']].head(10))"
   ]
  },
  {
   "cell_type": "code",
   "execution_count": 9,
   "id": "167fef9d-1b82-4ae1-a6a0-654eab7a9d08",
   "metadata": {},
   "outputs": [],
   "source": [
    "# Save the dataframe to a new CSV file\n",
    "df.to_csv('robertabased_with_sentiment_12th.csv', index=False)"
   ]
  },
  {
   "cell_type": "code",
   "execution_count": null,
   "id": "b0b74d26-e12b-41d9-80d7-53e7d01739b9",
   "metadata": {},
   "outputs": [],
   "source": []
  }
 ],
 "metadata": {
  "kernelspec": {
   "display_name": "Python 3 (ipykernel)",
   "language": "python",
   "name": "python3"
  },
  "language_info": {
   "codemirror_mode": {
    "name": "ipython",
    "version": 3
   },
   "file_extension": ".py",
   "mimetype": "text/x-python",
   "name": "python",
   "nbconvert_exporter": "python",
   "pygments_lexer": "ipython3",
   "version": "3.12.4"
  }
 },
 "nbformat": 4,
 "nbformat_minor": 5
}
